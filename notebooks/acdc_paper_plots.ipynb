{
 "cells": [
  {
   "cell_type": "code",
   "execution_count": null,
   "id": "7a53bf10",
   "metadata": {
    "ExecuteTime": {
     "end_time": "2021-09-27T14:04:59.811366Z",
     "start_time": "2021-09-27T14:04:57.690290Z"
    }
   },
   "outputs": [],
   "source": [
    "import pandas as pd\n",
    "pd.set_option(\"display.max_columns\", 150)\n",
    "import numpy as np\n",
    "import matplotlib.pyplot as plt\n",
    "import seaborn as sns\n",
    "sns.set_theme()\n",
    "import os\n",
    "import matplotlib.patches as patches\n",
    "import matplotlib.patches as mpatches\n",
    "import matplotlib.lines as mlines\n",
    "import scipy\n",
    "from collections import Counter\n",
    "\n",
    "from cellacdc import cca_functions\n",
    "from cellacdc import myutils\n",
    "\n",
    "data_dir = os.path.join('..', 'data', 'paper_plot_data')"
   ]
  },
  {
   "cell_type": "code",
   "execution_count": null,
   "id": "e41b411c",
   "metadata": {
    "ExecuteTime": {
     "end_time": "2021-09-27T14:04:59.941041Z",
     "start_time": "2021-09-27T14:04:59.811366Z"
    }
   },
   "outputs": [],
   "source": [
    "%load_ext autoreload\n",
    "%autoreload 2"
   ]
  },
  {
   "cell_type": "markdown",
   "id": "caf0a2f2",
   "metadata": {
    "heading_collapsed": true,
    "tags": []
   },
   "source": [
    "# Figure 3"
   ]
  },
  {
   "cell_type": "code",
   "execution_count": null,
   "id": "34fb1364",
   "metadata": {
    "ExecuteTime": {
     "end_time": "2021-09-27T14:05:01.256405Z",
     "start_time": "2021-09-27T14:04:59.941041Z"
    },
    "hidden": true
   },
   "outputs": [],
   "source": [
    "# load data from csv\n",
    "plot_data3a = pd.read_csv(os.path.join(data_dir, 'plot_data3a.csv'))\n",
    "\n",
    "sns.set_theme(context='talk', font_scale=1.725)\n",
    "sns.set_style(\"whitegrid\", {\"grid.color\": \".95\"})\n",
    "fig, ax = plt.subplots(nrows=1, ncols=1, figsize=(10,10))\n",
    "sns.regplot(\n",
    "    data=plot_data3a[plot_data3a.relationship_cellpose=='mother'],\n",
    "    x='cell_vol_fl_yeaz',\n",
    "    y='cell_vol_fl_cellpose',\n",
    "    ax = ax,\n",
    "    color = sns.color_palette()[0]\n",
    ")\n",
    "sns.regplot(\n",
    "    data=plot_data3a[plot_data3a.relationship_cellpose=='bud'],\n",
    "    x='cell_vol_fl_yeaz',\n",
    "    y='cell_vol_fl_cellpose',\n",
    "    ax = ax,\n",
    "    color = sns.color_palette()[1]\n",
    ")\n",
    "labels = [\n",
    "    'Mother cells',\n",
    "    'Buds'\n",
    "]\n",
    "handles = [\n",
    "    mlines.Line2D([], [], color=sns.color_palette()[0], marker='o', linestyle='None',\n",
    "                          markersize=10),\n",
    "    mlines.Line2D([], [], color=sns.color_palette()[1], marker='o', linestyle='None',\n",
    "                          markersize=10)\n",
    "]\n",
    "ax.legend(\n",
    "    handles=handles,\n",
    "    labels=labels, \n",
    "    loc='upper left',\n",
    "    framealpha=0.5\n",
    ")\n",
    "scatter_plot_max = max(plot_data3a.cell_vol_fl_yeaz.max(), plot_data3a.cell_vol_fl_cellpose.max())\n",
    "ax.set_xlabel('Cell vol. (phase contrast + YeaZ) [fL]')\n",
    "ax.set_ylabel('Cell vol. ($\\it{ACT1pr}$ signal + cellpose) [fL]')\n",
    "#ax.set_title('A', fontsize=50, loc='left', pad=30, x=-0.175)\n",
    "ax.set_ylim(0, int(scatter_plot_max)+10)\n",
    "ax.set_xlim(0, int(scatter_plot_max)+10)\n",
    "ax.set_xticks(np.arange(0, scatter_plot_max+10, 20))\n",
    "ax.set_yticks(np.arange(0, scatter_plot_max+10, 20))\n",
    "\n",
    "\n",
    "plt.tight_layout()\n",
    "#plt.savefig('../figures/new_fig3/fig3.svg')\n",
    "#plt.savefig('../figures/new_fig3/fig3.png', dpi=300)\n",
    "plt.show()\n",
    "\n",
    "print(f'Sample size Fig. 3A: {len(plot_data3a)//2}')\n",
    "pearson_r, p_value = scipy.stats.pearsonr(plot_data3a.cell_vol_fl_yeaz, plot_data3a.cell_vol_fl_cellpose)\n",
    "print(f'Pearson Correlation and p-value for non-correlation 3A: {pearson_r, p_value}')"
   ]
  },
  {
   "cell_type": "markdown",
   "id": "7067e206-0b1c-479a-bd11-913fa40a8fb6",
   "metadata": {
    "heading_collapsed": true,
    "tags": []
   },
   "source": [
    "# Figure 4"
   ]
  },
  {
   "cell_type": "code",
   "execution_count": null,
   "id": "6de50111-2872-4f17-b662-c9c74e2bc4d5",
   "metadata": {
    "ExecuteTime": {
     "end_time": "2021-09-27T14:05:01.256405Z",
     "start_time": "2021-09-27T14:04:59.941041Z"
    },
    "hidden": true
   },
   "outputs": [],
   "source": [
    "# load data from csv\n",
    "plot_data4a = pd.read_csv(os.path.join(data_dir, 'plot_data4a.csv'))\n",
    "plot_data4b = pd.read_csv(os.path.join(data_dir, 'plot_data4b.csv'))\n",
    "plot_data4c = pd.read_csv(os.path.join(data_dir, 'plot_data4c.csv'))\n",
    "plot_data4d = pd.read_csv(os.path.join(data_dir, 'plot_data4d.csv'))\n",
    "\n",
    "sns.set_theme(context='talk', font_scale=1.725)\n",
    "sns.set_style(\"whitegrid\", {\"grid.color\": \".95\"})\n",
    "fig, axs = plt.subplots(nrows=2, ncols=2, figsize=(24,20))\n",
    "\n",
    "# subplot 1\n",
    "sns.scatterplot(\n",
    "    data=plot_data4a,\n",
    "    x='cell_vol_fl',\n",
    "    y='FITC_concentration',\n",
    "    ax = axs[0,0],\n",
    "    color=sns.color_palette('pastel')[2],\n",
    "    s=11,\n",
    "    legend=False\n",
    "    #scatter_kws={'s':10},\n",
    "    #x_bins=20\n",
    "    #hue='size_category'\n",
    ")\n",
    "nbins = 12\n",
    "bins_min_count = 10\n",
    "xe, ye, std = cca_functions.binned_mean_stats(plot_data4a.cell_vol_fl, plot_data4a.FITC_concentration, nbins, bins_min_count)\n",
    "axs[0,0].errorbar(xe, ye, yerr=std, capsize=6, lw=3, c=sns.color_palette()[2])\n",
    "axs[0,0].set_xlabel('Cell volume [fL]')\n",
    "axs[0,0].set_ylabel('mTOR activity [a.u.]')\n",
    "axs[0,0].ticklabel_format(axis='y', style='sci', scilimits=(0,0), useMathText=True)\n",
    "axs[0,0].get_yaxis().get_offset_text().set_position((-0.07, 0))\n",
    "#lower_y_border, upper_y_border = plot_data4b.FITC_concentration.min()-10, plot_data4b.FITC_concentration.max()+10\n",
    "lower_y_border, upper_y_border = -200, plot_data4a.FITC_concentration.max()+10\n",
    "height = upper_y_border - lower_y_border\n",
    "# configure borders for \"size blocks\"\n",
    "xs_borders = 0, np.percentile(plot_data4a.cell_vol_fl, 15)\n",
    "m_borders = np.percentile(plot_data4a.cell_vol_fl, 35), np.percentile(plot_data4a.cell_vol_fl, 65)\n",
    "xl_borders = np.percentile(plot_data4a.cell_vol_fl, 85), np.percentile(plot_data4a.cell_vol_fl, 85)*2 + 20\n",
    "xs_width = xs_borders[1]-xs_borders[0]\n",
    "m_width = m_borders[1]-m_borders[0]\n",
    "xl_width = xl_borders[1]-xl_borders[0]\n",
    "# add gray rectangles for size categories\n",
    "axs[0,0].add_patch(\n",
    "    patches.Rectangle((xs_borders[0], lower_y_border), xs_width, height, color='black', alpha=0.1)\n",
    ")\n",
    "axs[0,0].text(0.5*sum(xs_borders)-10, upper_y_border-(upper_y_border//10), 'XS', fontdict={'fontsize':30})\n",
    "axs[0,0].add_patch(\n",
    "    patches.Rectangle((m_borders[0], lower_y_border), m_width, height, color='black', alpha=0.1)\n",
    ")\n",
    "axs[0,0].text(0.5*sum(m_borders)-10, upper_y_border-(upper_y_border//10), 'M', fontdict={'fontsize':30})\n",
    "axs[0,0].add_patch(\n",
    "    patches.Rectangle((xl_borders[0], lower_y_border), xl_width, height, color='black', alpha=0.1)\n",
    ")\n",
    "axs[0,0].text(0.5*sum(xl_borders)-10, upper_y_border-(upper_y_border//10), 'XL', fontdict={'fontsize':30})\n",
    "# set x and y limits manually\n",
    "axs[0,0].set_xlim(0, xl_borders[1])\n",
    "axs[0,0].set_ylim(lower_y_border, upper_y_border)\n",
    "#axs[1].set_title('B', fontsize=40, loc='left', pad=10)\n",
    "#axs[1].set_yscale('log')\n",
    "\n",
    "# subplot 2\n",
    "sns.boxplot(\n",
    "    data=plot_data4b,\n",
    "    x='size_category',\n",
    "    y='FITC_concentration',\n",
    "    order=[\"Control\", \"All\", \"XS\", \"M\", \"XL\"],\n",
    "    palette=['lightgray', sns.color_palette()[2]]+ [sns.color_palette('pastel')[2]]*3,\n",
    "    ax=axs[0,1],\n",
    "    #size=1\n",
    "    #inner='quartile'\n",
    ")\n",
    "axs[0,1].set_xlabel('Size category')\n",
    "axs[0,1].set_ylabel('mTOR activity [a.u.]')\n",
    "#axs[0,1].set_title('C', fontsize=40, loc='left', pad=10)\n",
    "axs[0,1].set_ylim(lower_y_border, upper_y_border)\n",
    "axs[0,1].ticklabel_format(axis='y', style='sci', scilimits=(0,0), useMathText=True)\n",
    "axs[0,1].get_yaxis().get_offset_text().set_position((-0.07, 0))\n",
    "#axs[0,1].set_yscale('log')\n",
    "\n",
    "\n",
    "print(f'Sample size Fig. 4A&B: {len(plot_data4a)}')\n",
    "print(f'Sample size control Fig. 4B: {len(plot_data4b[plot_data4b.size_category==\"Control\"])}')\n",
    "\n",
    "print(\n",
    "    f'ommitted {len(plot_data4a[plot_data4a.FITC_concentration>upper_y_border])} cells with FITC concentration '\n",
    "    f'higher than {upper_y_border}'\n",
    "     )\n",
    "\n",
    "print(f'**Effect sizes FITC amount per volume:**')\n",
    "print(f'Effect size (cohen) All vs. Control: {round(cca_functions.calculate_effect_size_cohen(plot_data4b, \"All\", \"Control\",val_column=\"FITC_concentration\"), 2)}')\n",
    "print(f'Effect size (cohen) XS vs. Control: {round(cca_functions.calculate_effect_size_cohen(plot_data4b, \"XS\", \"Control\",val_column=\"FITC_concentration\"), 2)}')\n",
    "print(f'Effect size (cohen) M vs. Control: {round(cca_functions.calculate_effect_size_cohen(plot_data4b, \"M\", \"Control\",val_column=\"FITC_concentration\"), 2)}')\n",
    "print(f'Effect size (cohen) XL vs. Control: {round(cca_functions.calculate_effect_size_cohen(plot_data4b, \"XL\", \"Control\",val_column=\"FITC_concentration\"), 2)}')\n",
    "\n",
    "print(f'Effect size (glass) All vs. Control: {round(cca_functions.calculate_effect_size_glass(plot_data4b, \"All\", \"Control\",val_column=\"FITC_concentration\"), 2)}')\n",
    "print(f'Effect size (glass) XS vs. Control: {round(cca_functions.calculate_effect_size_glass(plot_data4b, \"XS\", \"Control\",val_column=\"FITC_concentration\"), 2)}')\n",
    "print(f'Effect size (glass) M vs. Control: {round(cca_functions.calculate_effect_size_glass(plot_data4b, \"M\", \"Control\",val_column=\"FITC_concentration\"), 2)}')\n",
    "print(f'Effect size (glass) XL vs. Control: {round(cca_functions.calculate_effect_size_glass(plot_data4b, \"XL\", \"Control\",val_column=\"FITC_concentration\"), 2)}')\n",
    "\n",
    "\n",
    "# subplot 3\n",
    "sns.scatterplot(\n",
    "    data=plot_data4c,\n",
    "    x='cell_vol_fl',\n",
    "    y='Pp38_concentration',\n",
    "    ax = axs[1,0],\n",
    "    color=sns.color_palette('pastel')[0],\n",
    "    s=11,\n",
    "    legend=False\n",
    "    #scatter_kws={'s':10},\n",
    "    #x_bins=20\n",
    "    #hue='size_category'\n",
    ")\n",
    "nbins = 11\n",
    "bins_min_count = 10\n",
    "xe, ye, std = cca_functions.binned_mean_stats(plot_data4c.cell_vol_fl, plot_data4c.Pp38_concentration, nbins, bins_min_count)\n",
    "axs[1,0].errorbar(xe, ye, yerr=std, capsize=6, lw=3, c=sns.color_palette()[0])\n",
    "axs[1,0].set_xlabel('Nuclear volume (DAPI) [fL]')\n",
    "axs[1,0].set_ylabel('p38 activity [a.u.]')\n",
    "#lower_y_border, upper_y_border = plot_data3b.FITC_concentration.min()-10, plot_data3b.FITC_concentration.max()+10\n",
    "lower_y_border, upper_y_border = -200, plot_data4c.Pp38_concentration.max()+10\n",
    "height = upper_y_border - lower_y_border\n",
    "# configure borders for \"size blocks\"\n",
    "xs_borders = 0, np.percentile(plot_data4c.cell_vol_fl, 15)\n",
    "m_borders = np.percentile(plot_data4c.cell_vol_fl, 35), np.percentile(plot_data4c.cell_vol_fl, 65)\n",
    "xl_borders = np.percentile(plot_data4c.cell_vol_fl, 85), np.max(plot_data4c.cell_vol_fl) + 20\n",
    "xs_width = xs_borders[1]-xs_borders[0]\n",
    "m_width = m_borders[1]-m_borders[0]\n",
    "xl_width = xl_borders[1]-xl_borders[0]\n",
    "# add gray rectangles for size categories\n",
    "axs[1,0].add_patch(\n",
    "    patches.Rectangle((xs_borders[0], lower_y_border), xs_width, height, color='black', alpha=0.1)\n",
    ")\n",
    "axs[1,0].text(0.5*sum(xs_borders)-9, upper_y_border-(upper_y_border//10), 'XS', fontdict={'fontsize':30})\n",
    "axs[1,0].add_patch(\n",
    "    patches.Rectangle((m_borders[0], lower_y_border), m_width, height, color='black', alpha=0.1)\n",
    ")\n",
    "axs[1,0].text(0.5*sum(m_borders)-6, upper_y_border-(upper_y_border//10), 'M', fontdict={'fontsize':30})\n",
    "axs[1,0].add_patch(\n",
    "    patches.Rectangle((xl_borders[0], lower_y_border), xl_width, height, color='black', alpha=0.1)\n",
    ")\n",
    "axs[1,0].text(0.5*sum(xl_borders)-5, upper_y_border-(upper_y_border//10), 'XL', fontdict={'fontsize':30})\n",
    "# set x and y limits manually\n",
    "axs[1,0].set_xlim(0, xl_borders[1])\n",
    "axs[1,0].set_ylim(lower_y_border, upper_y_border)\n",
    "axs[1,0].ticklabel_format(axis='y', style='sci', scilimits=(0,0), useMathText=True)\n",
    "axs[1,0].get_yaxis().get_offset_text().set_position((-0.07, 0))\n",
    "#axs[1].set_title('B', fontsize=40, loc='left', pad=10)\n",
    "#axs[1].set_yscale('log')\n",
    "\n",
    "# subplot 4\n",
    "sns.boxplot(\n",
    "    data=plot_data4d,\n",
    "    x='size_category',\n",
    "    y='Pp38_concentration',\n",
    "    order=[\"Control\", \"All\", \"XS\", \"M\", \"XL\"],\n",
    "    palette=['lightgray', sns.color_palette()[0]]+ [sns.color_palette('pastel')[0]]*3,\n",
    "    ax=axs[1,1],\n",
    "    #size=1\n",
    "    #inner='quartile'\n",
    ")\n",
    "axs[1,1].set_xlabel('Size category')\n",
    "axs[1,1].set_ylabel('p38 activity [a.u.]')\n",
    "#axs[1,1].set_title('C', fontsize=40, loc='left', pad=10)\n",
    "axs[1,1].set_ylim(lower_y_border, upper_y_border)\n",
    "axs[1,1].ticklabel_format(axis='y', style='sci', scilimits=(0,0), useMathText=True)\n",
    "axs[1,1].get_yaxis().get_offset_text().set_position((-0.07, 0))\n",
    "#axs[1,1].set_yscale('log')\n",
    "\n",
    "plt.tight_layout()\n",
    "\n",
    "plt.savefig('../figures/new_fig4/combined_fig4_v4.svg')\n",
    "plt.savefig('../figures/new_fig4/combined_fig4_v4.png', dpi=300)\n",
    "\n",
    "plt.show()\n",
    "\n",
    "\n",
    "print(f'Sample size Fig. 4C&D: {len(plot_data4c)}')\n",
    "print(f'Sample size control Fig. 4D: {len(plot_data4d[plot_data4d.size_category==\"Control\"])}')\n",
    "\n",
    "print(\n",
    "    f'ommitted {len(plot_data4c[plot_data4c.Pp38_concentration>upper_y_border])} cells with Pp38 concentration '\n",
    "    f'higher than {upper_y_border}'\n",
    "     )\n",
    "\n",
    "print(f'Effect size (cohen) All vs. Control: {round(cca_functions.calculate_effect_size_cohen(plot_data4d, \"All\", \"Control\"), 2)}')\n",
    "print(f'Effect size (cohen) XS vs. Control: {round(cca_functions.calculate_effect_size_cohen(plot_data4d, \"XS\", \"Control\"), 2)}')\n",
    "print(f'Effect size (cohen) M vs. Control: {round(cca_functions.calculate_effect_size_cohen(plot_data4d, \"M\", \"Control\"), 2)}')\n",
    "print(f'Effect size (cohen) XL vs. Control: {round(cca_functions.calculate_effect_size_cohen(plot_data4d, \"XL\", \"Control\"), 2)}')\n",
    "\n",
    "print(f'Effect size (glass) All vs. Control: {round(cca_functions.calculate_effect_size_glass(plot_data4d, \"All\", \"Control\"), 2)}')\n",
    "print(f'Effect size (glass) XS vs. Control: {round(cca_functions.calculate_effect_size_glass(plot_data4d, \"XS\", \"Control\"), 2)}')\n",
    "print(f'Effect size (glass) M vs. Control: {round(cca_functions.calculate_effect_size_glass(plot_data4d, \"M\", \"Control\"), 2)}')\n",
    "print(f'Effect size (glass) XL vs. Control: {round(cca_functions.calculate_effect_size_glass(plot_data4d, \"XL\", \"Control\"), 2)}')"
   ]
  },
  {
   "cell_type": "markdown",
   "id": "577323b7",
   "metadata": {
    "heading_collapsed": true,
    "tags": []
   },
   "source": [
    "# Figure 5"
   ]
  },
  {
   "cell_type": "code",
   "execution_count": null,
   "id": "6e9443de",
   "metadata": {
    "ExecuteTime": {
     "end_time": "2021-09-27T14:05:07.287564Z",
     "start_time": "2021-09-27T14:05:01.256405Z"
    },
    "hidden": true
   },
   "outputs": [],
   "source": [
    "plot_data5a = pd.read_csv(os.path.join(data_dir, 'plot_data5a_v2.csv'))\n",
    "plot_data5a_melted = pd.read_csv(os.path.join(data_dir, 'plot_data5a_melted_v2.csv'))\n",
    "plot_data5b = pd.read_csv(os.path.join(data_dir, 'plot_data5b_v2.csv'))\n",
    "plot_data5c = pd.read_csv(os.path.join(data_dir, 'plot_data5c.csv'))\n",
    "sns.set_theme(context='talk', font_scale=1.15)\n",
    "sns.set_style(\"whitegrid\", {\"grid.color\": \".95\"})\n",
    "fig, axs = plt.subplots(nrows=2, ncols=2, figsize=(20,20), sharey='row')\n",
    "\n",
    "shared_y_max = plot_data5b.relevant_amount.max()+0.2e5\n",
    "split_by_gen = True\n",
    "\n",
    "# subplot 1\n",
    "if split_by_gen:\n",
    "    style='Generation'\n",
    "else:\n",
    "    style=None\n",
    "sns.lineplot(\n",
    "    data=plot_data5a_melted[plot_data5a_melted.centered_time_in_minutes>=0].sort_values('Generation', ascending=False),\n",
    "    x=\"centered_time_in_minutes\", \n",
    "    y=\"value\",\n",
    "    hue='Method of calculation',\n",
    "    palette=[sns.color_palette('dark')[0],sns.color_palette('dark')[1]],\n",
    "    style=style,\n",
    "    ci=95,\n",
    "    ax=axs[0,0],\n",
    "    legend=False\n",
    ")\n",
    "sns.lineplot(\n",
    "    data=plot_data5a_melted[\n",
    "        (plot_data5a_melted.centered_time_in_minutes<=0) &\n",
    "        (plot_data5a_melted['Method of calculation'] == \"Combined signal\")\n",
    "    ].sort_values('Generation', ascending=False),\n",
    "    x=\"centered_time_in_minutes\", \n",
    "    y=\"value\",\n",
    "    hue='Method of calculation',\n",
    "    palette=[sns.color_palette('pastel')[1]],\n",
    "    style=style,\n",
    "    ci=95,\n",
    "    ax=axs[0,0],\n",
    "    legend=False\n",
    ")\n",
    "\n",
    "axs[0,0].axvline(x=0, color='red')#, label='Time of Bud Emergence')\n",
    "axs[0,0].text(\n",
    "    0.7, 1.1e5, \"Time of \\nbud emergence\", horizontalalignment='left', \n",
    "    size='medium', color='red', weight='normal'\n",
    ")\n",
    "# custom legend\n",
    "labels = [\n",
    "    'Combined signal',\n",
    "    'Bud signal',\n",
    "    'Division 1',\n",
    "    'Divisions 2+'\n",
    "]\n",
    "handles = [\n",
    "    mpatches.Patch(color=sns.color_palette('pastel')[1]),\n",
    "    mpatches.Patch(color=sns.color_palette('dark')[0]),\n",
    "    mlines.Line2D([], [], color='gray', linestyle='-'),\n",
    "    mlines.Line2D([], [], color='gray', linestyle='--')\n",
    "]\n",
    "handles2 = [\n",
    "    mpatches.Patch(color=sns.color_palette('dark')[1]),\n",
    "    mpatches.Patch(color='white'),\n",
    "    mpatches.Patch(color='white'),\n",
    "    mpatches.Patch(color='white'),\n",
    "]\n",
    "axs[0,0].legend(\n",
    "    handles=handles+handles2,\n",
    "    ncol=2,\n",
    "    labels=['']*4+labels,\n",
    "    columnspacing=-0.5,\n",
    "    loc='upper left',\n",
    "    bbox_to_anchor = (-.01,1),\n",
    "    framealpha=0.5,\n",
    "    handlelength=1\n",
    ")\n",
    "#plt.setp(axs[0,0].get_legend().get_title(), fontsize='20') \n",
    "axs[0,0].set_ylabel(\"Amount of Htb1-mCitrine [a.u.]\")\n",
    "axs[0,0].set_xlabel(\"Time since bud emergence [minutes]\")\n",
    "#axs[0,0].set_title('A', fontsize=30, loc='left', pad=10)\n",
    "axs[0,0].ticklabel_format(axis='y', style='sci', scilimits=(0,0), useMathText=True)\n",
    "axs[0,0].get_yaxis().get_offset_text().set_position((-0.07, 0))\n",
    "axs[0,0].set_ylim(-0.2e5, shared_y_max)\n",
    "axs[0,0].set_xlim(\n",
    "    plot_data5a_melted.centered_time_in_minutes.min(),\n",
    "    plot_data5a_melted.centered_time_in_minutes.max()\n",
    ")\n",
    "#axs[0,0].legend().get_texts()[0].set_text(matplotlib.text.Text(text='test', fontweight=1000))\n",
    "\n",
    "#subplot 2\n",
    "# Initialize the figure\n",
    "custom_colors = [\n",
    "    sns.color_palette('dark')[1],\n",
    "    sns.color_palette('pastel')[1],\n",
    "    sns.color_palette()[4],\n",
    "    sns.color_palette()[2]\n",
    "]\n",
    "sns.scatterplot(\n",
    "    x=\"relevant_volume\", \n",
    "    y=\"relevant_amount\", \n",
    "    data=plot_data5b[plot_data5b.generation_num==1].sort_values(\n",
    "        'Kind of Measurement new', ascending=False\n",
    "    ),\n",
    "    palette=custom_colors,\n",
    "    hue=\"Kind of Measurement new\",\n",
    "    marker='x',\n",
    "    ax=axs[0,1]\n",
    ")\n",
    "\n",
    "sns.scatterplot(\n",
    "    x=\"relevant_volume\", \n",
    "    y=\"relevant_amount\", \n",
    "    data=plot_data5b[plot_data5b.generation_num>1].sort_values(\n",
    "        'Kind of Measurement new', ascending=False\n",
    "    ),\n",
    "    palette=custom_colors,\n",
    "    hue=\"Kind of Measurement new\",\n",
    "    legend=False,\n",
    "    marker='o',\n",
    "    ax=axs[0,1]\n",
    ")\n",
    "measurements = [\n",
    "    'Mother+bud at cytokinesis',\n",
    "    'At G1-entry',\n",
    "    'AF control, m+b at cytokinesis',\n",
    "    'AF control at G1-entry'\n",
    "]\n",
    "\n",
    "# add regplots in for loop\n",
    "print(pd.unique(plot_data5b['Kind of Measurement new']))\n",
    "for idx, measure in enumerate(measurements):\n",
    "    sns.regplot(\n",
    "        x=\"relevant_volume\", \n",
    "        y=\"relevant_amount\", \n",
    "        data=plot_data5b[plot_data5b['Kind of Measurement new']==measure],\n",
    "        color=custom_colors[idx],\n",
    "        scatter=False,\n",
    "        ax=axs[0,1]\n",
    "    )\n",
    "labels = [\n",
    "    'Division 1',\n",
    "    'Divisions 2+'\n",
    "]\n",
    "handles = [\n",
    "    mpatches.Patch(color=sns.color_palette('dark')[1]),\n",
    "    mpatches.Patch(color=sns.color_palette('pastel')[1]),\n",
    "    mpatches.Patch(color=sns.color_palette()[2]),\n",
    "    mpatches.Patch(color=sns.color_palette()[4]),\n",
    "    mlines.Line2D([], [], color='gray', marker='x', linestyle='None',\n",
    "                          markersize=10),\n",
    "    mlines.Line2D([], [], color='gray', marker='o', linestyle='None',\n",
    "                          markersize=10)\n",
    "]\n",
    "axs[0,1].legend(\n",
    "    handles=handles,\n",
    "    labels=measurements+labels, \n",
    "    loc='lower right',\n",
    "    #bbox_to_anchor = (1,0),\n",
    "    framealpha=0.5,\n",
    "    handlelength=0.75\n",
    ")\n",
    "axs[0,1].set_ylabel(\"Amount of Htb1-mCitrine [a.u.]\")\n",
    "axs[0,1].set_xlabel('Cell volume at G1-entry / before cytokinesis [fL]')\n",
    "# format y-axis\n",
    "axs[0,1].ticklabel_format(axis='y', style='sci', scilimits=(0,0), useMathText=True)\n",
    "axs[0,1].get_yaxis().get_offset_text().set_position((-0.07, 0))\n",
    "# format x-axis\n",
    "axs[0,1].set_xlim(0, plot_data5b.relevant_volume.max()+2)\n",
    "axs[0,1].set_ylim(-0.2e5, shared_y_max)\n",
    "#axs[0,1].set_title('B', fontsize=30, loc='left', pad=10)\n",
    "\n",
    "sns.boxplot(\n",
    "    data=plot_data5c,\n",
    "    x='x_label',\n",
    "    y='mCitrine_corrected_concentration',\n",
    "    palette='vlag',\n",
    "    fliersize=0,\n",
    "    ax=axs[1,0]\n",
    ")\n",
    "\n",
    "#add stripplot on top\n",
    "sns.stripplot(\n",
    "    data=plot_data5c,\n",
    "    x='x_label',\n",
    "    y='mCitrine_corrected_concentration',\n",
    "    color=\".3\",\n",
    "    ax=axs[1,0]\n",
    ")\n",
    "\n",
    "# switch to scientific number format on y-Axis and move text\n",
    "axs[1,0].ticklabel_format(axis='y', style='sci', scilimits=(0,0), useMathText=True)\n",
    "axs[1,0].get_yaxis().get_offset_text().set_position((-0.07,0))\n",
    "\n",
    "# Rename axes and set title\n",
    "axs[1,0].set_ylabel(\"Htb1-mCitrine amount per volume in mother cell at division [a.u.]\")#, fontsize=20)\n",
    "axs[1,0].set_xlabel(\"Division\", fontsize=20)\n",
    "#axs[1,0].set_title(f\"Concentration by Generation (n={len(plot_data5c)})\", fontsize=25) # changed this from 30 to 25 compared to 5B\n",
    "axs[1,0].set_ylim(0, plot_data5c.mCitrine_corrected_concentration.max()+0.1e4)\n",
    "\n",
    "plt.tight_layout()\n",
    "\n",
    "#plt.savefig(os.path.join('..', 'figures', 'new_fig5', 'combined_fig5_v4.png'), dpi=300)\n",
    "#plt.savefig(os.path.join('..', 'figures', 'new_fig5', 'combined_fig5_v4.svg'))\n",
    "\n",
    "plt.show()\n",
    "sample_size5a = len(plot_data5a[['position', 'Cell_ID', 'file', 'generation_num']].drop_duplicates())\n",
    "sample_size5b = len(plot_data5b)\n",
    "print(f'Fig 5A sample size: {sample_size5a}')\n",
    "print(f'Fig 5A sample sizes by generation: {plot_data5a_melted.Generation.unique()}')\n",
    "print(f\"Fig 5B sample size: {int(sample_size5b/2)}\")\n",
    "print(f'Fig 5B sample size flu-control: {len(plot_data5b[plot_data5b.selection_subset==1])//2}')\n",
    "print(f'Fig 5B sample size tagged strain: {len(plot_data5b[plot_data5b.selection_subset==0])//2}')\n",
    "print(f'Fig 5C sample size: {len(plot_data5c)}')"
   ]
  },
  {
   "cell_type": "code",
   "execution_count": null,
   "id": "83147491-4f50-468f-9d5e-79e2c451473a",
   "metadata": {},
   "outputs": [],
   "source": [
    "plot_data5a_melted[plot_data5a_melted.centered_time_in_minutes<=0]"
   ]
  },
  {
   "cell_type": "markdown",
   "id": "f0fd2285",
   "metadata": {
    "heading_collapsed": true,
    "jp-MarkdownHeadingCollapsed": true,
    "tags": []
   },
   "source": [
    "# Load raw data to create Figure 3"
   ]
  },
  {
   "cell_type": "markdown",
   "id": "065b25b1",
   "metadata": {
    "hidden": true,
    "tags": []
   },
   "source": [
    "## generate Act1-cellpose vs. PC-YeaZ Volume plot"
   ]
  },
  {
   "cell_type": "code",
   "execution_count": null,
   "id": "c6cb0c8e",
   "metadata": {
    "ExecuteTime": {
     "end_time": "2021-09-27T14:05:07.572097Z",
     "start_time": "2021-09-27T14:05:07.440545Z"
    },
    "hidden": true
   },
   "outputs": [],
   "source": [
    "phase_contr_yeaz_data = pd.read_csv(os.path.join(data_dir, 'SegmPhaseContr_YeaZ_AllPos_acdc_output.csv'))\n",
    "cellpose_act1_data = pd.read_csv(os.path.join(data_dir, 'SegmACT1_Cellpose_AllPos_acdc_output.csv'))\n",
    "merged_vol_data = pd.merge(\n",
    "    phase_contr_yeaz_data,\n",
    "    cellpose_act1_data,\n",
    "    on=['Position_n', 'Cell_ID'],\n",
    "    suffixes=('_yeaz', '_cellpose')\n",
    ")"
   ]
  },
  {
   "cell_type": "code",
   "execution_count": null,
   "id": "efde1756",
   "metadata": {
    "ExecuteTime": {
     "end_time": "2021-09-27T14:05:08.258192Z",
     "start_time": "2021-09-27T14:05:07.572097Z"
    },
    "hidden": true
   },
   "outputs": [],
   "source": [
    "plt.figure(figsize=(10,10))\n",
    "fig = sns.lmplot(\n",
    "    data=merged_vol_data,\n",
    "    x='cell_vol_fl_yeaz',\n",
    "    y='cell_vol_fl_cellpose',\n",
    "    hue='relationship_cellpose',\n",
    "    height=7.5,\n",
    "    legend=False\n",
    ")\n",
    "ax = plt.gca()\n",
    "labels = [\n",
    "    'Mother cells',\n",
    "    'Buds & daughter cells'\n",
    "]\n",
    "handles = [\n",
    "    mlines.Line2D([], [], color=sns.color_palette()[0], marker='o', linestyle='None',\n",
    "                          markersize=10),\n",
    "    mlines.Line2D([], [], color=sns.color_palette()[1], marker='o', linestyle='None',\n",
    "                          markersize=10)\n",
    "]\n",
    "ax.legend(\n",
    "    handles=handles,\n",
    "    labels=labels, \n",
    "    loc='center right',\n",
    "    bbox_to_anchor = (1,0.2),\n",
    "    framealpha=0.5\n",
    ")\n",
    "ax.set_xlabel('Cell Volume Phase Contrast + YeaZ [fL]')\n",
    "ax.set_ylabel('Cell Volume Act1 signal + cellpose [fL]')\n",
    "plt.show()\n",
    "#merged_vol_data.to_csv(os.path.join(data_dir, 'plot_data3a.csv'), index=False)"
   ]
  },
  {
   "cell_type": "markdown",
   "id": "a93cb186-3948-4fa7-9bb7-f43fb47a07bb",
   "metadata": {
    "tags": []
   },
   "source": [
    "# Load raw data to create Figure 4"
   ]
  },
  {
   "cell_type": "markdown",
   "id": "77ab61df-4afb-4755-9800-0d21b29145c2",
   "metadata": {
    "hidden": true,
    "tags": []
   },
   "source": [
    "## configuration - p38 data"
   ]
  },
  {
   "cell_type": "code",
   "execution_count": null,
   "id": "a8432a09",
   "metadata": {
    "ExecuteTime": {
     "end_time": "2021-09-27T14:05:07.440545Z",
     "start_time": "2021-09-27T14:05:07.287564Z"
    },
    "hidden": true
   },
   "outputs": [],
   "source": [
    "stem_data = pd.read_csv(os.path.join(data_dir, 'p38_AB_AllPos_acdc_output.csv'))\n",
    "# configure borders for \"size blocks\"\n",
    "xs_borders = 0, np.percentile(stem_data.cell_vol_fl, 15)\n",
    "m_borders = np.percentile(stem_data.cell_vol_fl, 35), np.percentile(stem_data.cell_vol_fl, 65)\n",
    "xl_borders = np.percentile(stem_data.cell_vol_fl, 85), np.max(stem_data.cell_vol_fl) + 20\n",
    "stem_data['Pp38_concentration'] = stem_data['Pp38_amount_autoBkgr_zSlice'] / stem_data['cell_vol_fl']"
   ]
  },
  {
   "cell_type": "markdown",
   "id": "b7ead1c7",
   "metadata": {
    "hidden": true,
    "tags": []
   },
   "source": [
    "## generate scatter plot with \"size blocks\" - p38 data --> format in combined plot"
   ]
  },
  {
   "cell_type": "code",
   "execution_count": null,
   "id": "edeeb23e",
   "metadata": {
    "ExecuteTime": {
     "end_time": "2021-09-27T14:05:08.605714Z",
     "start_time": "2021-09-27T14:05:08.258192Z"
    },
    "hidden": true
   },
   "outputs": [],
   "source": [
    "plt.subplots(figsize=(10,10))\n",
    "sns.set_theme(context='talk', style='darkgrid')\n",
    "ax = sns.scatterplot(\n",
    "    data=stem_data,\n",
    "    x='cell_vol_fl',\n",
    "    y='Pp38_concentration',\n",
    "    #hue='size_category'\n",
    ")\n",
    "ax.set_xlabel('HSC Nuclear Volume [fL]')\n",
    "ax.set_ylabel('Mean intensity Pp38 [a.u.]')\n",
    "lower_y_border, upper_y_border = stem_data.Pp38_concentration.min()-10, stem_data.Pp38_concentration.max()+10\n",
    "height = upper_y_border - lower_y_border\n",
    "xs_width = xs_borders[1]-xs_borders[0]\n",
    "m_width = m_borders[1]-m_borders[0]\n",
    "xl_width = xl_borders[1]-xl_borders[0]\n",
    "ax.add_patch(\n",
    "    patches.Rectangle((xs_borders[0], lower_y_border), xs_width, height, color='black', alpha=0.2)\n",
    ")\n",
    "plt.text(0.5*sum(xs_borders)-20, upper_y_border-50, 'XS', fontdict={'fontsize':30})\n",
    "ax.add_patch(\n",
    "    patches.Rectangle((m_borders[0], lower_y_border), m_width, height, color='black', alpha=0.2)\n",
    ")\n",
    "plt.text(0.5*sum(m_borders)-20, upper_y_border-50, 'M', fontdict={'fontsize':30})\n",
    "ax.add_patch(\n",
    "    patches.Rectangle((xl_borders[0], lower_y_border), xl_width, height, color='black', alpha=0.2)\n",
    ")\n",
    "plt.text(0.5*sum(xl_borders)-20, upper_y_border-50, 'XL', fontdict={'fontsize':30})\n",
    "\"\"\"\n",
    "plt.savefig(\n",
    "    '../figures/stemcell_scatter_v1.pdf',\n",
    "    dpi=300\n",
    ")\n",
    "\"\"\"\n",
    "plt.show()\n",
    "#stem_data.to_csv(os.path.join(data_dir, 'plot_data4c.csv'), index=False)"
   ]
  },
  {
   "cell_type": "markdown",
   "id": "9669a3bc",
   "metadata": {
    "hidden": true,
    "tags": []
   },
   "source": [
    "## generate box plots by size category - p38 data"
   ]
  },
  {
   "cell_type": "code",
   "execution_count": null,
   "id": "e8a9f5dc",
   "metadata": {
    "ExecuteTime": {
     "end_time": "2021-09-27T14:05:08.806252Z",
     "start_time": "2021-09-27T14:05:08.605714Z"
    },
    "hidden": true
   },
   "outputs": [],
   "source": [
    "stem_bkgr_data = pd.read_csv(os.path.join(data_dir, 'p38_control_AllPos_acdc_output.csv'))\n",
    "stem_bkgr_data['Pp38_concentration'] = stem_bkgr_data['Pp38_amount_autoBkgr_zSlice'] / stem_bkgr_data['cell_vol_fl']\n",
    "def generate_size_str(x):\n",
    "    if x>=0 and x<=xs_borders[1]:\n",
    "        return 'XS'\n",
    "    elif x>=m_borders[0] and x<=m_borders[1]:\n",
    "        return 'M'\n",
    "    elif x>=xl_borders[0]:\n",
    "        return 'XL'\n",
    "    else:\n",
    "        return 'rest'\n",
    "all_data = stem_data.copy()\n",
    "all_data['size_category'] = 'All'\n",
    "stem_data['size_category'] = stem_data.cell_vol_fl.apply(generate_size_str)\n",
    "stem_bkgr_data['size_category'] = 'Control'\n",
    "box_data = pd.concat([all_data, stem_data[stem_data.size_category!='rest'], stem_bkgr_data], ignore_index=True)"
   ]
  },
  {
   "cell_type": "code",
   "execution_count": null,
   "id": "98f7abd6",
   "metadata": {
    "ExecuteTime": {
     "end_time": "2021-09-27T14:05:09.107093Z",
     "start_time": "2021-09-27T14:05:08.806252Z"
    },
    "hidden": true
   },
   "outputs": [],
   "source": [
    "sns.set_theme(context='talk', style='darkgrid')\n",
    "plt.figure(figsize=(10,10))\n",
    "ax = sns.boxplot(\n",
    "    data=box_data,\n",
    "    x='size_category',\n",
    "    y='Pp38_concentration',\n",
    "    order=[\"Control\", \"All\", \"XS\", \"M\", \"XL\"],\n",
    "    color=sns.color_palette()[0]\n",
    "    #inner='quartile'\n",
    ")\n",
    "ax.set_xlabel('Size Category')\n",
    "ax.set_ylabel('Mean intensity Pp38 [a.u.]')\n",
    "\"\"\"\n",
    "plt.savefig(\n",
    "    '../figures/stemcell_violin_v1.pdf',\n",
    "    dpi=300\n",
    ")\n",
    "\"\"\"\n",
    "plt.show()\n",
    "#box_data.to_csv(os.path.join(data_dir, 'plot_data4d.csv'), index=False)"
   ]
  },
  {
   "cell_type": "markdown",
   "id": "85825463-f391-4952-ad3a-1c40bb6a4205",
   "metadata": {
    "hidden": true,
    "tags": []
   },
   "source": [
    "## configuration - FITC data"
   ]
  },
  {
   "cell_type": "code",
   "execution_count": null,
   "id": "045de6bf-41b7-45bf-ab46-28436098d0c7",
   "metadata": {
    "ExecuteTime": {
     "end_time": "2021-09-27T14:05:07.440545Z",
     "start_time": "2021-09-27T14:05:07.287564Z"
    },
    "hidden": true
   },
   "outputs": [],
   "source": [
    "stem_data = pd.read_csv(os.path.join(data_dir, 'stemcell_data.csv'))\n",
    "# configure borders for \"size blocks\"\n",
    "xs_borders = 0, np.percentile(stem_data.cell_vol_fl, 15)\n",
    "m_borders = np.percentile(stem_data.cell_vol_fl, 35), np.percentile(stem_data.cell_vol_fl, 65)\n",
    "xl_borders = np.percentile(stem_data.cell_vol_fl, 85), np.percentile(stem_data.cell_vol_fl, 85) * 2 + 20\n",
    "# In Fig. 3B very small cells are assumed to be imaging fragments, very large cells missed Segmentation errors\n",
    "min_vol, max_vol = 0, xl_borders[0]*2\n",
    "stem_selection_indices = np.logical_and(stem_data.cell_vol_fl>min_vol, stem_data.cell_vol_fl<max_vol)\n",
    "stem_data = stem_data[stem_selection_indices]\n",
    "stem_data['FITC_concentration'] = stem_data['FITC_amount_autoBkgr_zSlice'] / stem_data['cell_vol_fl']"
   ]
  },
  {
   "cell_type": "markdown",
   "id": "305b2fc9-4b78-4654-85af-bdae64e1cbcc",
   "metadata": {
    "hidden": true,
    "tags": []
   },
   "source": [
    "## generate scatter plot with \"size blocks\""
   ]
  },
  {
   "cell_type": "code",
   "execution_count": null,
   "id": "cd5e5bb9-b4b2-47cc-a071-40a59ccf3ff9",
   "metadata": {
    "ExecuteTime": {
     "end_time": "2021-09-27T14:05:08.605714Z",
     "start_time": "2021-09-27T14:05:08.258192Z"
    },
    "hidden": true
   },
   "outputs": [],
   "source": [
    "plt.subplots(figsize=(10,10))\n",
    "sns.set_theme(context='talk', style='darkgrid')\n",
    "ax = sns.scatterplot(\n",
    "    data=stem_data,\n",
    "    x='cell_vol_fl',\n",
    "    y='FITC_concentration',\n",
    "    color=sns.color_palette()[2]\n",
    "    #hue='size_category'\n",
    ")\n",
    "ax.set_xlabel('HSC Volume [fL]')\n",
    "ax.set_ylabel('Mean intensity FITC [a.u.]')\n",
    "lower_y_border, upper_y_border = stem_data.FITC_concentration.min()-10, stem_data.FITC_concentration.max()+10\n",
    "height = upper_y_border - lower_y_border\n",
    "xs_width = xs_borders[1]-xs_borders[0]\n",
    "m_width = m_borders[1]-m_borders[0]\n",
    "xl_width = xl_borders[1]-xl_borders[0]\n",
    "ax.add_patch(\n",
    "    patches.Rectangle((xs_borders[0], lower_y_border), xs_width, height, color='black', alpha=0.2)\n",
    ")\n",
    "plt.text(0.5*sum(xs_borders)-20, upper_y_border-50, 'XS', fontdict={'fontsize':30})\n",
    "ax.add_patch(\n",
    "    patches.Rectangle((m_borders[0], lower_y_border), m_width, height, color='black', alpha=0.2)\n",
    ")\n",
    "plt.text(0.5*sum(m_borders)-20, upper_y_border-50, 'M', fontdict={'fontsize':30})\n",
    "ax.add_patch(\n",
    "    patches.Rectangle((xl_borders[0], lower_y_border), xl_width, height, color='black', alpha=0.2)\n",
    ")\n",
    "ax.set_xlim(0, xl_borders[1])\n",
    "plt.text(0.5*sum(xl_borders)-20, upper_y_border-50, 'XL', fontdict={'fontsize':30})\n",
    "\"\"\"\n",
    "plt.savefig(\n",
    "    '../figures/stemcell_scatter_v1.pdf',\n",
    "    dpi=300\n",
    ")\n",
    "\"\"\"\n",
    "plt.show()\n",
    "#stem_data.to_csv(os.path.join(data_dir, 'plot_data4a.csv'), index=False)"
   ]
  },
  {
   "cell_type": "markdown",
   "id": "9cf8c22e-ba90-4a50-8231-137548bbff7d",
   "metadata": {
    "hidden": true,
    "tags": []
   },
   "source": [
    "## generate box plots by size category"
   ]
  },
  {
   "cell_type": "code",
   "execution_count": null,
   "id": "87b9c02b-bc94-4738-9200-7fecf3dab614",
   "metadata": {
    "ExecuteTime": {
     "end_time": "2021-09-27T14:05:08.806252Z",
     "start_time": "2021-09-27T14:05:08.605714Z"
    },
    "hidden": true
   },
   "outputs": [],
   "source": [
    "stem_bkgr_data = pd.read_csv(os.path.join(data_dir, 'stemcell_bkgr_data.csv'))\n",
    "stem_bkgr_data['FITC_concentration'] = stem_bkgr_data['FITC_amount_autoBkgr_zSlice'] / stem_bkgr_data['cell_vol_fl']\n",
    "def generate_size_str(x):\n",
    "    if x>=0 and x<=xs_borders[1]:\n",
    "        return 'XS'\n",
    "    elif x>=m_borders[0] and x<=m_borders[1]:\n",
    "        return 'M'\n",
    "    elif x>=xl_borders[0]:\n",
    "        return 'XL'\n",
    "    else:\n",
    "        return 'rest'\n",
    "all_data = stem_data.copy()\n",
    "all_data['size_category'] = 'All'\n",
    "stem_data['size_category'] = stem_data.cell_vol_fl.apply(generate_size_str)\n",
    "stem_bkgr_data['size_category'] = 'Control'\n",
    "box_data = pd.concat([all_data, stem_data[stem_data.size_category!='rest'], stem_bkgr_data], ignore_index=True)"
   ]
  },
  {
   "cell_type": "code",
   "execution_count": null,
   "id": "6222248d-871f-45db-aa50-1747933870df",
   "metadata": {
    "ExecuteTime": {
     "end_time": "2021-09-27T14:05:09.107093Z",
     "start_time": "2021-09-27T14:05:08.806252Z"
    },
    "hidden": true
   },
   "outputs": [],
   "source": [
    "sns.set_theme(context='talk', style='darkgrid')\n",
    "plt.figure(figsize=(10,10))\n",
    "ax = sns.boxplot(\n",
    "    data=box_data,\n",
    "    x='size_category',\n",
    "    y='FITC_concentration',\n",
    "    order=[\"Control\", \"All\", \"XS\", \"M\", \"XL\"],\n",
    "    color=sns.color_palette()[2]\n",
    "    #inner='quartile'\n",
    ")\n",
    "ax.set_xlabel('Size Category')\n",
    "ax.set_ylabel('Mean intensity FITC [a.u.]')\n",
    "\"\"\"\n",
    "plt.savefig(\n",
    "    '../figures/stemcell_violin_v1.pdf',\n",
    "    dpi=300\n",
    ")\n",
    "\"\"\"\n",
    "plt.show()\n",
    "#box_data.to_csv(os.path.join(data_dir, 'plot_data4b.csv'), index=False)"
   ]
  },
  {
   "cell_type": "markdown",
   "id": "cc73ef60",
   "metadata": {
    "tags": []
   },
   "source": [
    "# Load raw data to perform calculations for Figure 5\n",
    "(same as in downstream-notebook but with fixed data selection)"
   ]
  },
  {
   "cell_type": "markdown",
   "id": "de8232c8",
   "metadata": {
    "jp-MarkdownHeadingCollapsed": true,
    "tags": []
   },
   "source": [
    "## calculate downstream data based on raw image data"
   ]
  },
  {
   "cell_type": "code",
   "execution_count": null,
   "id": "4ae09c3c",
   "metadata": {
    "ExecuteTime": {
     "end_time": "2021-09-27T14:05:59.470447Z",
     "start_time": "2021-09-27T14:05:59.325577Z"
    }
   },
   "outputs": [],
   "source": [
    "data_dirs, positions = (\n",
    "    [\n",
    "        '../data/acdc_test_data/TimeLapse_2D/MIA_KC_htb1_mCitrine_labeled',\n",
    "        '../data/acdc_test_data/TimeLapse_2D/MIA_KC_htb1_mCitrine_flu_control_labeled'\n",
    "    ],\n",
    "    [\n",
    "        ['Position_2', 'Position_3', 'Position_4', 'Position_5', 'Position_8'],\n",
    "        ['Position_1', 'Position_3']\n",
    "    ]\n",
    ")\n",
    "file_names = [os.path.split(path)[-1] for path in data_dirs]\n",
    "image_folders = [[os.path.join(data_dir, pos_str, 'Images') for pos_str in pos_list] for pos_list, data_dir in zip(positions, data_dirs)]\n",
    "# determine available channels based on first(!) position.\n",
    "# Warn user if one or more of the channels are not available for some positions\n",
    "first_pos_dir = os.path.join(data_dirs[0], positions[0][0], 'Images')\n",
    "first_pos_files = myutils.listdir(first_pos_dir)\n",
    "channels, warn = cca_functions.find_available_channels(first_pos_files, first_pos_dir)"
   ]
  },
  {
   "cell_type": "code",
   "execution_count": null,
   "id": "2f9c27ae",
   "metadata": {
    "ExecuteTime": {
     "end_time": "2021-09-27T14:06:02.929820Z",
     "start_time": "2021-09-27T14:06:00.808884Z"
    },
    "scrolled": true,
    "tags": []
   },
   "outputs": [],
   "source": [
    "overall_df, is_timelapse_data, is_zstack_data = cca_functions.calculate_downstream_data(\n",
    "    file_names,\n",
    "    image_folders,\n",
    "    positions,\n",
    "    channels, \n",
    "    force_recalculation=False\n",
    ")\n",
    "#overall_df.to_csv(os.path.join(data_dir, 'raw_downstream_data_fig4_v2.csv'), index=False)"
   ]
  },
  {
   "cell_type": "markdown",
   "id": "53a9edac",
   "metadata": {
    "jp-MarkdownHeadingCollapsed": true,
    "tags": []
   },
   "source": [
    "## Alternatively load raw downstream data"
   ]
  },
  {
   "cell_type": "code",
   "execution_count": null,
   "id": "41d018c9",
   "metadata": {
    "ExecuteTime": {
     "end_time": "2021-09-27T14:09:28.939007Z",
     "start_time": "2021-09-27T14:09:28.669398Z"
    }
   },
   "outputs": [],
   "source": [
    "data_dir = os.path.join('..', 'data', 'paper_plot_data')\n",
    "overall_df = pd.read_csv(os.path.join(data_dir, 'raw_downstream_data_fig5_v2.csv'))"
   ]
  },
  {
   "cell_type": "markdown",
   "id": "c671ae50",
   "metadata": {
    "jp-MarkdownHeadingCollapsed": true,
    "tags": []
   },
   "source": [
    "## Perform calculations generally needed for Figure 5"
   ]
  },
  {
   "cell_type": "code",
   "execution_count": null,
   "id": "5dcf7f12",
   "metadata": {
    "ExecuteTime": {
     "end_time": "2021-09-27T14:09:32.727598Z",
     "start_time": "2021-09-27T14:09:29.423723Z"
    }
   },
   "outputs": [],
   "source": [
    "overall_df_with_rel = cca_functions.calculate_relatives_data(overall_df, channels)\n",
    "# If working with timelapse data build dataframe grouped by phases\n",
    "group_cols = [\n",
    "    'Cell_ID', 'generation_num', 'cell_cycle_stage', 'relationship', 'position', 'file', \n",
    "    'max_frame_pos', 'selection_subset', 'max_t'\n",
    "]\n",
    "# calculate data grouped by phase only in the case, that timelapse data is available\n",
    "if is_timelapse_data:\n",
    "    phase_grouped = cca_functions.calculate_per_phase_quantities(overall_df_with_rel, group_cols, channels)\n",
    "    # append phase-grouped data to overall_df\n",
    "    overall_df_with_rel = overall_df_with_rel.merge(\n",
    "        phase_grouped,\n",
    "        how='left',\n",
    "        on=group_cols\n",
    "    )"
   ]
  },
  {
   "cell_type": "code",
   "execution_count": null,
   "id": "7c8099fa",
   "metadata": {
    "ExecuteTime": {
     "end_time": "2021-09-27T14:09:32.857892Z",
     "start_time": "2021-09-27T14:09:32.727598Z"
    }
   },
   "outputs": [],
   "source": [
    "overall_df_with_rel.shape, phase_grouped.shape"
   ]
  },
  {
   "cell_type": "markdown",
   "id": "380d5a0c",
   "metadata": {
    "jp-MarkdownHeadingCollapsed": true,
    "tags": []
   },
   "source": [
    "## perform calculations for time plot (Fig. 5A)"
   ]
  },
  {
   "cell_type": "code",
   "execution_count": null,
   "id": "9e8ce886",
   "metadata": {
    "ExecuteTime": {
     "end_time": "2021-09-27T14:09:45.685859Z",
     "start_time": "2021-09-27T14:09:43.720149Z"
    }
   },
   "outputs": [],
   "source": [
    "# some configurations\n",
    "# frame interval of video\n",
    "frame_interval_minutes = 3\n",
    "# quantiles of complete cell cycles (wrt phase lengths) to exclude from analysis \n",
    "# (not used, keep this for potential later use)\n",
    "down_q, upper_q = 0, 1\n",
    "# minimum number of cell cycles contributing to the mean+CI curve:\n",
    "min_no_of_ccs = 10\n",
    "# determine if you want to split the plot by generation\n",
    "split_by_gen = True\n",
    "# wether to scale to 0/1 or not\n",
    "scale_data = False\n",
    "\n",
    "# select needed cols from overall_df_with_rel to not end up with too many columns\n",
    "needed_cols = [\n",
    "    'selection_subset', 'position', 'Cell_ID', 'cell_cycle_stage', 'generation_num', 'frame_i',\n",
    "    'mCitrine_corrected_amount', 'mCitrine_corrected_amount_rel', \n",
    "    'file', 'relationship', 'relative_ID', 'phase_length', 'phase_begin', 'gui_mCitrine_amount_autoBkgr'\n",
    "]\n",
    "filter_idx = np.logical_and(overall_df_with_rel['complete_cycle'] == 1, overall_df_with_rel.selection_subset==0)\n",
    "plot_data5a = overall_df_with_rel.loc[filter_idx, needed_cols].copy()\n",
    "# calculate the time the cell already spent in the current frame at the current timepoint\n",
    "plot_data5a['frames_in_phase'] = plot_data5a['frame_i'] - plot_data5a['phase_begin'] + 1\n",
    "# calculate the time to the next (for G1 cells) and from the last (for S cells) G1/S transition  \n",
    "plot_data5a['centered_frames_in_phase'] = plot_data5a.apply(\n",
    "    lambda x: x.loc['frames_in_phase'] if\\\n",
    "    x.loc['cell_cycle_stage']=='S' else\\\n",
    "    x.loc['frames_in_phase']-1-x.loc['phase_length'],\n",
    "    axis=1\n",
    ")\n",
    "# calculate combined signal and the \"Pool, Phase ID\" for the legend\n",
    "# plot_data5a at this point only contains relationship==mother, \n",
    "# as generation_num==0 and relationship==bud are filtered out (incomplete cycle, cycles start with G1)\n",
    "plot_data5a['Combined signal'] = plot_data5a.apply(\n",
    "    lambda x: x.loc['mCitrine_corrected_amount']+x.loc['mCitrine_corrected_amount_rel'] if\\\n",
    "    x.loc['cell_cycle_stage']=='S' and x.loc['relationship'] == 'mother' else\\\n",
    "    x.loc['mCitrine_corrected_amount'],\n",
    "    axis=1\n",
    ")\n",
    "plot_data5a['Bud signal'] = plot_data5a.apply(\n",
    "    lambda x: x.loc['mCitrine_corrected_amount_rel'] if\\\n",
    "    x.loc['cell_cycle_stage']=='S' and x.loc['relationship'] == 'mother' else 0,\n",
    "    axis=1\n",
    ")\n",
    "# scale data if needed\n",
    "if scale_data:\n",
    "    maximum = max(\n",
    "        plot_data5a['Combined signal'].max(), \n",
    "        plot_data5a['Bud signal'].max()\n",
    "    )\n",
    "    plot_data5a['Combined signal'] /= maximum\n",
    "    plot_data5a['Bud signal'] /= maximum\n",
    "# calculate min and max centered times per generation to eliminate up to a percentile\n",
    "# (not used, as upper_q and lower_q are set to 100/0 respectively)\n",
    "plot_data5a['min_centered_frames'] = plot_data5a.groupby(\n",
    "    ['position', 'file', 'Cell_ID', 'generation_num']\n",
    ")['centered_frames_in_phase'].transform(\n",
    "    'min'\n",
    ")\n",
    "plot_data5a['max_centered_frames'] = plot_data5a.groupby(\n",
    "    ['position', 'file', 'Cell_ID', 'generation_num']\n",
    ")['centered_frames_in_phase'].transform(\n",
    "    'max'\n",
    ")\n",
    "min_and_max = plot_data5a.groupby(\n",
    "    ['Cell_ID', 'generation_num', 'position', 'file']\n",
    ").agg(\n",
    "    min_centered = ('min_centered_frames', 'first'),\n",
    "    max_centered = ('max_centered_frames', 'first')\n",
    ").reset_index()\n",
    "min_val, max_val = np.quantile(\n",
    "    min_and_max.min_centered, down_q\n",
    ") * frame_interval_minutes, np.quantile(\n",
    "    min_and_max.max_centered, upper_q\n",
    ") * frame_interval_minutes\n",
    "# perform selection (won't change anything if upper and lower are 100 and 0 respectively)\n",
    "selection_indices = np.logical_and(\n",
    "    plot_data5a.min_centered_frames*frame_interval_minutes>=min_val, \n",
    "    plot_data5a.max_centered_frames*frame_interval_minutes<=max_val\n",
    ")\n",
    "plot_data5a = plot_data5a[selection_indices]\n",
    "\n",
    "# calculate centered time in minutes\n",
    "plot_data5a['centered_time_in_minutes'] = plot_data5a.centered_frames_in_phase * frame_interval_minutes\n",
    "\n",
    "# group dataframe to calculate sample sizes per generation\n",
    "standard_grouped = plot_data5a.groupby(\n",
    "    ['position', 'file', 'Cell_ID', 'generation_num']\n",
    ").agg('count').reset_index()\n",
    "plot_data5a['Generation'] = plot_data5a.apply(\n",
    "    lambda x: f'1st ($n_1$={len(standard_grouped[standard_grouped.generation_num==1])})' if\\\n",
    "    x.loc['generation_num']==1 else f'2+ ($n_2$={len(standard_grouped[standard_grouped.generation_num>1])})',\n",
    "    axis=1\n",
    ")\n",
    "if split_by_gen:\n",
    "    g_cols = ['centered_frames_in_phase', 'Generation']\n",
    "else:\n",
    "    g_cols = 'centered_frames_in_phase'\n",
    "plot_data5a['contributing_ccs_at_time'] = plot_data5a.groupby(g_cols).transform('count')['selection_subset']\n",
    "plot_data5a = plot_data5a[plot_data5a.contributing_ccs_at_time >= min_no_of_ccs]\n",
    "\n",
    "# finally prepare data for plot (use melt for multiple lines)\n",
    "sample_size_5a = len(standard_grouped)\n",
    "avg_cell_cycle_length = round(standard_grouped.loc[:,'centered_time_in_minutes'].mean())*frame_interval_minutes\n",
    "cols_to_plot = ['Bud signal', 'Combined signal']\n",
    "index_cols = [col for col in plot_data5a.columns if col not in cols_to_plot]\n",
    "plot_data5a_melted = pd.melt(\n",
    "    plot_data5a, index_cols, var_name='Method of calculation'\n",
    ").sort_values('Method of calculation')\n",
    "data_dir = os.path.join('..', 'data', 'paper_plot_data')\n",
    "# save preprocessed data for Fig. 5A\n",
    "#plot_data5a_melted.to_csv(os.path.join(data_dir, 'plot_data5a_melted_v2.csv'), index=False)\n",
    "#plot_data5a.to_csv(os.path.join(data_dir, 'plot_data5a_v2.csv'), index=False)"
   ]
  },
  {
   "cell_type": "markdown",
   "id": "2d265354",
   "metadata": {
    "tags": []
   },
   "source": [
    "## generate time plot (Fig. 5A)"
   ]
  },
  {
   "cell_type": "code",
   "execution_count": null,
   "id": "ae909e66",
   "metadata": {
    "ExecuteTime": {
     "end_time": "2021-09-27T14:10:26.898707Z",
     "start_time": "2021-09-27T14:10:21.856458Z"
    }
   },
   "outputs": [],
   "source": [
    "# plot the data, comment out \"style\" argument to not make difference between generations\n",
    "sns.set_theme(style=\"darkgrid\", font_scale=1.6)\n",
    "f, ax = plt.subplots(figsize=(15, 12))\n",
    "if split_by_gen:\n",
    "    style='Generation'\n",
    "else:\n",
    "    style=None\n",
    "ax = sns.lineplot(\n",
    "    data=plot_data5a_melted,#.sort_values('Pool, Phase'),\n",
    "    x=\"centered_time_in_minutes\", \n",
    "    y=\"value\",\n",
    "    hue='Method of calculation',\n",
    "    style=style,\n",
    "    #style='position',\n",
    "    ci=95\n",
    ")\n",
    "ax.axvline(x=0, color='red')#, label='Time of Bud Emergence')\n",
    "ax.text(\n",
    "    0.5, 100000, \"Time of \\nBud Emergence\", horizontalalignment='left', \n",
    "    size='medium', color='red', weight='normal'\n",
    ")\n",
    "ax.legend(\n",
    "    #title=f'Avg CC Length: {avg_cell_cycle_length} min, n = {sample_size_5a}', \n",
    "    fancybox=True,\n",
    "    labelspacing=0.5,\n",
    "    handlelength=1.5,\n",
    "    loc = 'upper left'\n",
    ")\n",
    "ax.set_ylabel(\"Total amount of Htb1-mCitrine corrected by background [a.u.]\", fontsize=20)\n",
    "ax.set_xlabel(\"Time in phase relative to G1/S transition [minutes]\", fontsize=20)\n",
    "ax.set_title(\"Corrected Htb1-mCitrine Amount during Cell Cycle Progression\", fontsize=30)\n",
    "plt.tight_layout()\n",
    "\"\"\"\n",
    "plt.savefig(os.path.join('..', 'figures', 'new_fig5', 'mCitrine_over_time_by_gen_v6.svg'))\n",
    "plt.savefig(os.path.join('..', 'figures', 'new_fig5', 'mCitrine_over_time_by_gen_v6.png'),dpi=300)\n",
    "\"\"\"\n",
    "plt.show()"
   ]
  },
  {
   "cell_type": "markdown",
   "id": "0f63865d-4705-4178-a725-abc177bd9ff8",
   "metadata": {
    "tags": []
   },
   "source": [
    "## perform calculations for volume at birth plot (Fig 5B)"
   ]
  },
  {
   "cell_type": "code",
   "execution_count": null,
   "id": "f6a6edf9",
   "metadata": {
    "ExecuteTime": {
     "end_time": "2021-09-23T15:07:34.469264Z",
     "start_time": "2021-09-23T15:07:34.447558Z"
    }
   },
   "outputs": [],
   "source": [
    "# obtain table where one cell cycle is represented by one row: \n",
    "# first set of columns (like phase_length, growth...) for G1, second set of cols for S\n",
    "needed_cols = [\n",
    "    'Cell_ID', 'generation_num', 'position', 'file', 'cell_cycle_stage', 'selection_subset', \n",
    "    'phase_volume_at_beginning', 'phase_volume_at_end', 'phase_mCitrine_amount_at_beginning',\n",
    "    'phase_mCitrine_combined_amount_at_end', 'phase_combined_volume_at_end'\n",
    "]\n",
    "plot_data5b = phase_grouped.loc[phase_grouped.all_complete==1, needed_cols]\n",
    "scale_data = False"
   ]
  },
  {
   "cell_type": "code",
   "execution_count": null,
   "id": "9749ef44",
   "metadata": {
    "ExecuteTime": {
     "end_time": "2021-09-23T15:07:34.647701Z",
     "start_time": "2021-09-23T15:07:34.469264Z"
    }
   },
   "outputs": [],
   "source": [
    "plot_data5b['relevant_volume'] = plot_data5b.apply(\n",
    "    lambda x: x.loc['phase_volume_at_beginning'] if\\\n",
    "    x.loc['cell_cycle_stage']=='G1' else\\\n",
    "    x.loc['phase_combined_volume_at_end'],\n",
    "    axis=1\n",
    ")\n",
    "plot_data5b['relevant_amount'] = plot_data5b.apply(\n",
    "    lambda x: x.loc['phase_mCitrine_amount_at_beginning'] if\\\n",
    "    x.loc['cell_cycle_stage']=='G1' else\\\n",
    "    x.loc['phase_mCitrine_combined_amount_at_end'],\n",
    "    axis=1\n",
    ")\n",
    "# defining a function to generate entries for the figure legend \n",
    "# (assuming that selection_subset>0 is the autofluorescence control of the experiment)\n",
    "def calc_legend_entry(x):\n",
    "    if x.loc['selection_subset'] == 0:\n",
    "        if x.loc['cell_cycle_stage']=='G1':\n",
    "            return 'At G1-entry'\n",
    "        else:\n",
    "            return 'Mother+bud at cytokinesis'\n",
    "    else:\n",
    "        if x.loc['cell_cycle_stage']=='G1':\n",
    "            return 'AF control at G1-entry'\n",
    "        else:\n",
    "            return 'AF control, m+b at cytokinesis'\n",
    "        \n",
    "plot_data5b['Kind of Measurement new'] = plot_data5b.apply(\n",
    "    calc_legend_entry,\n",
    "    axis=1\n",
    ")\n",
    "plot_data5b['Generation'] = plot_data5b.apply(\n",
    "    lambda x: f'1st ($n_1$={int(len(plot_data5b[plot_data5b.generation_num==1])/2)})' if\\\n",
    "    x.loc['generation_num']==1 else f'2+ ($n_2$={int(len(plot_data5b[plot_data5b.generation_num>1])/2)})',\n",
    "    axis=1\n",
    ")\n",
    "if scale_data:\n",
    "    maximum = plot_data5b['relevant_amount'].max()\n",
    "    plot_data5b['relevant_amount'] /= maximum\n",
    "sample_size_5b = len(plot_data5b)\n",
    "data_dir = os.path.join('..', 'data', 'paper_plot_data')\n",
    "#plot_data5b.to_csv(os.path.join(data_dir, 'plot_data5b_v2.csv'), index=False)"
   ]
  },
  {
   "cell_type": "markdown",
   "id": "59c2308b",
   "metadata": {
    "tags": []
   },
   "source": [
    "## generate volume at birth plot (Fig 5B)"
   ]
  },
  {
   "cell_type": "code",
   "execution_count": null,
   "id": "fb24682e",
   "metadata": {
    "ExecuteTime": {
     "end_time": "2021-09-23T15:07:35.565294Z",
     "start_time": "2021-09-23T15:07:34.647701Z"
    }
   },
   "outputs": [],
   "source": [
    "#plot_data5b = plot_data5b[plot_data5b.selection_subset==1]\n",
    "sns.set_theme(style=\"whitegrid\", font_scale=1.6)\n",
    "# Initialize the figure\n",
    "sns.lmplot(\n",
    "    x=\"relevant_volume\", \n",
    "    y=\"relevant_amount\", \n",
    "    data=plot_data5b.sort_values(\n",
    "        'Kind of Measurement new', ascending=False\n",
    "    ),\n",
    "    hue=\"Kind of Measurement new\",\n",
    "    legend=False,\n",
    "    #style=\"generation_num\",\n",
    "    #row=\"selection_subset\",\n",
    "    #sharex=False,\n",
    "    height=10,\n",
    "    aspect=1.1,\n",
    "    scatter=False\n",
    ")\n",
    "\n",
    "sns.scatterplot(\n",
    "    x=\"relevant_volume\", \n",
    "    y=\"relevant_amount\", \n",
    "    data=plot_data5b[plot_data5b.generation_num==1].sort_values(\n",
    "        'Kind of Measurement new', ascending=False\n",
    "    ),\n",
    "    hue=\"Kind of Measurement new\",\n",
    "    legend=False,\n",
    "    marker='x'\n",
    ")\n",
    "\n",
    "sns.scatterplot(\n",
    "    x=\"relevant_volume\", \n",
    "    y=\"relevant_amount\", \n",
    "    data=plot_data5b[plot_data5b.generation_num>1].sort_values(\n",
    "        'Kind of Measurement new', ascending=False\n",
    "    ),\n",
    "    hue=\"Kind of Measurement new\",\n",
    "    legend=False,\n",
    "    marker='o'\n",
    ")\n",
    "\n",
    "#g._legend.set_title('Kind of Measurement')\n",
    "ax = plt.gca()\n",
    "#ax.set(yscale=\"log2\")\n",
    "#ax.set_yscale('log', basey=2)\n",
    "#ax.set_xscale('log', basex=10)\n",
    "labels = [\n",
    "    'Single cell at G1-entry',\n",
    "    'Mother&bud at cytokinesis',\n",
    "    'Af control, single cell at G1-entry',\n",
    "    'Af control, combined mother&bud at cytokinesis',\n",
    "    'Generation 1',\n",
    "    'Generation 2+'\n",
    "]\n",
    "handles = [\n",
    "    mpatches.Patch(color=sns.color_palette()[0]),\n",
    "    mpatches.Patch(color=sns.color_palette()[1]),\n",
    "    mpatches.Patch(color=sns.color_palette()[2]),\n",
    "    mpatches.Patch(color=sns.color_palette()[3]),\n",
    "    mlines.Line2D([], [], color='gray', marker='x', linestyle='None',\n",
    "                          markersize=10),\n",
    "    mlines.Line2D([], [], color='gray', marker='o', linestyle='None',\n",
    "                          markersize=10)\n",
    "]\n",
    "ax.legend(\n",
    "    handles=handles,\n",
    "    labels=labels, \n",
    "    loc='center right',\n",
    "    bbox_to_anchor = (1,0.2),\n",
    "    framealpha=0.5\n",
    ")\n",
    "ax.set_ylabel(\"Amount of Htb1-mCitrine in Cell(s) [a.u.]\", fontsize=20)\n",
    "ax.set_xlabel(\"Volume at G1-entry / Combined Volume Before Cytokinesis [fL]\", fontsize=20)\n",
    "ax.set_title(f\"Volume at G1-entry vs Htb1-mCitrine Amount (n={int(sample_size_5b/2)})\", fontsize=30)\n",
    "# format y-axis\n",
    "plt.ticklabel_format(axis='y', style='sci', scilimits=(0,0), useMathText=True)\n",
    "ax.get_yaxis().get_offset_text().set_position((-0.05,0))\n",
    "# format x-axis\n",
    "ax.set_xlim(0, plot_data5b.relevant_volume.max()+20)\n",
    "plt.tight_layout()\n",
    "\"\"\"\n",
    "plt.savefig(os.path.join('..', 'figures', 'new_fig5', 'mCitrine_at_birth_and_cytokinesis_v6.png'), dpi=300)\n",
    "plt.savefig(os.path.join('..', 'figures', 'new_fig5', 'mCitrine_at_birth_and_cytokinesis_v6.svg'))\n",
    "\"\"\"\n",
    "plt.show()\n",
    "print(f'sample size flu-control: {len(plot_data5b[plot_data5b.selection_subset==1])//2}')\n",
    "print(f'sample size tagged strain: {len(plot_data5b[plot_data5b.selection_subset==0])//2}')"
   ]
  },
  {
   "cell_type": "markdown",
   "id": "a13f4706-2d03-4006-9b1f-555d328f032e",
   "metadata": {
    "tags": []
   },
   "source": [
    "## Perform calculations for Figure 5C: Filter for cells at birth (first frame into G1 of each mother cell)"
   ]
  },
  {
   "cell_type": "code",
   "execution_count": null,
   "id": "99b47a5e-ad2e-462f-aa56-443f5b86b80b",
   "metadata": {},
   "outputs": [],
   "source": [
    "# will show up at x=1 --> later mother cells at their own birth\n",
    "mothers_at_birth = overall_df_with_rel[\n",
    "    (overall_df_with_rel.generation_num==1) & \n",
    "    (overall_df_with_rel.cell_cycle_stage=='G1') & \n",
    "    (overall_df_with_rel.frame_i==overall_df_with_rel.phase_begin) & \n",
    "    (overall_df_with_rel.is_history_known) &\n",
    "    (overall_df_with_rel.file=='MIA_KC_htb1_mCitrine_labeled') &\n",
    "    (~overall_df_with_rel.is_cell_excluded)\n",
    "]\n",
    "# will show up at x>1 --> mother cells now dividing from their own daughter cell the first (gen=2), second (gen=3),... time\n",
    "mothers_at_division = overall_df_with_rel[\n",
    "    (overall_df_with_rel.generation_num>1) & \n",
    "    (overall_df_with_rel.cell_cycle_stage=='G1') & \n",
    "    (overall_df_with_rel.frame_i==overall_df_with_rel.division_frame_i) & \n",
    "    (overall_df_with_rel.is_history_known) &\n",
    "    (overall_df_with_rel.file=='MIA_KC_htb1_mCitrine_labeled') &\n",
    "    (~overall_df_with_rel.is_cell_excluded)\n",
    "]"
   ]
  },
  {
   "cell_type": "code",
   "execution_count": null,
   "id": "3bbcac1b-7470-476a-834d-50e586061243",
   "metadata": {},
   "outputs": [],
   "source": [
    "mothers_df = pd.concat([mothers_at_division,mothers_at_birth], ignore_index=True)\n",
    "mothers_df['pos_cell_id'] = mothers_df.apply(lambda x: f'cell_{x.loc[\"Cell_ID\"]}_{x.loc[\"position\"]}', axis=1)\n",
    "# calculate number of cells per generation\n",
    "gen_counter = Counter(mothers_df.generation_num)\n",
    "mothers_df['x_label'] = mothers_df.generation_num.apply(lambda x: f'{int(x)} (n={gen_counter[x]})')\n",
    "mothers_df = mothers_df[['frame_i', 'Cell_ID', 'file', 'position', 'x_label', 'mCitrine_corrected_amount', 'mCitrine_corrected_concentration']].sort_values('x_label')\n",
    "#mothers_df.to_csv(os.path.join(data_dir, 'plot_data5c.csv'), index=False)"
   ]
  },
  {
   "cell_type": "markdown",
   "id": "c2ad3011-752d-49b2-9cf6-25b58ca23e17",
   "metadata": {
    "tags": []
   },
   "source": [
    "## Generate Figure 5C"
   ]
  },
  {
   "cell_type": "code",
   "execution_count": null,
   "id": "9da39c33-f943-4d6f-a6f8-f71238126dd2",
   "metadata": {},
   "outputs": [],
   "source": [
    "sns.set_theme(style=\"whitegrid\", font_scale=1.6)\n",
    "fig, ax = plt.subplots(figsize=(10,10))\n",
    "sns.boxplot(\n",
    "    data=mothers_df,\n",
    "    x='x_label',\n",
    "    y='mCitrine_corrected_concentration',\n",
    "    palette='vlag',\n",
    "    fliersize=0,\n",
    "    ax=ax\n",
    ")\n",
    "\n",
    "#add stripplot on top\n",
    "sns.stripplot(\n",
    "    data=mothers_df,\n",
    "    x='x_label',\n",
    "    y='mCitrine_corrected_concentration',\n",
    "    color=\".3\",\n",
    "    ax=ax\n",
    ")\n",
    "\n",
    "# switch to scientific number format on y-Axis and move text\n",
    "ax.ticklabel_format(axis='y', style='sci', scilimits=(0,0), useMathText=True)\n",
    "ax.get_yaxis().get_offset_text().set_position((-0.05,0))\n",
    "\n",
    "# Rename axes and set title\n",
    "ax.set_ylabel(\"Htb1-mCitrine amount per volume in mother cell at division [a.u.]\", fontsize=20)\n",
    "ax.set_xlabel(\"Generation\", fontsize=20)\n",
    "ax.set_title(f\"Amount per Volume by Generation (n={len(mothers_df)})\", fontsize=25) # changed this from 30 to 25 compared to 5B\n",
    "ax.set_ylim(0, mothers_df.mCitrine_corrected_concentration.max()+0.1e4)\n",
    "\n",
    "# save and show\n",
    "plt.tight_layout()\n",
    "#plt.savefig('../figures/generation_plot_v5.svg')#, dpi=300)\n",
    "#plt.savefig('../figures/generation_plot_v5.png', dpi=300)\n",
    "plt.show()"
   ]
  },
  {
   "cell_type": "markdown",
   "id": "32d22f8d-a733-4c7f-a6f6-fdb8494a0c84",
   "metadata": {
    "tags": []
   },
   "source": [
    "### Identify outliers and perform quick inspection to exclude possibility of Segmentation errors"
   ]
  },
  {
   "cell_type": "code",
   "execution_count": null,
   "id": "b5c4ad85-1aaf-4126-969e-20e1263994cf",
   "metadata": {},
   "outputs": [],
   "source": [
    "outliers = mothers_df.loc[mothers_df['mCitrine_corrected_concentration'] > 1e4][['Cell_ID', 'frame_i', 'file', 'position']]\n",
    "data_path = f'../data/acdc_test_data/TimeLapse_2D/MIA_KC_htb1_mCitrine_labeled'\n",
    "for idx, line in outliers.iterrows():\n",
    "    print(line)# if 'is' in str(v)])\n",
    "    pos_dir = f'{data_path}/{line[\"position\"]}/Images'\n",
    "    channel_data, seg_mask, cc_data, metadata, cc_props = cca_functions._load_files(pos_dir, ['phase_contr'])\n",
    "    plt.figure(figsize=(12,5))\n",
    "    plt.subplot(121)\n",
    "    plt.title('Phase Contrast')\n",
    "    plt.imshow(channel_data[line[\"frame_i\"]])\n",
    "    plt.subplot(122)\n",
    "    plt.title('Outlier_cell')\n",
    "    plt.imshow(seg_mask[line[\"frame_i\"]]==line[\"Cell_ID\"])\n",
    "    plt.show()"
   ]
  },
  {
   "cell_type": "code",
   "execution_count": null,
   "id": "a99433a2-120a-4e25-88df-4d1c0a1057b2",
   "metadata": {},
   "outputs": [],
   "source": []
  }
 ],
 "metadata": {
  "kernelspec": {
   "display_name": "Python 3 (ipykernel)",
   "language": "python",
   "name": "python3"
  },
  "language_info": {
   "codemirror_mode": {
    "name": "ipython",
    "version": 3
   },
   "file_extension": ".py",
   "mimetype": "text/x-python",
   "name": "python",
   "nbconvert_exporter": "python",
   "pygments_lexer": "ipython3",
   "version": "3.9.7"
  }
 },
 "nbformat": 4,
 "nbformat_minor": 5
}
